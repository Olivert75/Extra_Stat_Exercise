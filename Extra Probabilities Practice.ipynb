{
 "cells": [
  {
   "cell_type": "markdown",
   "id": "9116f80f",
   "metadata": {},
   "source": [
    "In 2014, 78.9% of U.S. households spoke only English at home. What is the probability that at least 12 of 15 randomly sampled U.S. households speak only English at home?"
   ]
  },
  {
   "cell_type": "code",
   "execution_count": null,
   "id": "dfc11989",
   "metadata": {},
   "outputs": [],
   "source": []
  },
  {
   "cell_type": "markdown",
   "id": "652a1d60",
   "metadata": {},
   "source": [
    "A concrete plant takes 20 independent samples of concrete each month. The samples are cured and strength tested to evaluate quality control at the plant. Let N20 be the number of samples which fall below a strength of 20 MPa. In general the fraction of such low strength samples is around 10%, and this is considered acceptable. However, if the samples taken in a particular month yield a value of N20 which exceeds its mean by more than two standard deviations, the plant operations are critically reviewed.\n",
    "\n",
    "     a. What is the probability of having to critically review the plant operations even though the actual fraction of low strength samples for that month is still 10%?\n",
    "\n",
    "     b. If the actual fraction of low strength samples remains at 10%, what is the probability that the next critical review will take place in exactly 5 months?"
   ]
  },
  {
   "cell_type": "code",
   "execution_count": null,
   "id": "f15168d9",
   "metadata": {},
   "outputs": [],
   "source": []
  },
  {
   "cell_type": "markdown",
   "id": "8dd792c5",
   "metadata": {},
   "source": [
    "Data from the COVID call center shows that the time between calls follows an exponential distribution with a mean of 8 minutes.\n",
    "\n",
    "1. What is the rate of calls per minute (average number of calls per minute)?\n",
    "\n",
    "2. What is the probability that the center will get a call within 3 minutes?\n",
    "\n",
    "3. What is the probability that the center will get no call for 5 minutes?\n",
    "\n",
    "4. What is the probability that the center will get a call between 3 to 5 minutes (a call coming in from 00:03:00 to 00:05:00)?"
   ]
  },
  {
   "cell_type": "code",
   "execution_count": null,
   "id": "0b8d2b67",
   "metadata": {},
   "outputs": [],
   "source": []
  },
  {
   "cell_type": "markdown",
   "id": "1c008740",
   "metadata": {},
   "source": [
    "In basketball, one of the possible penalties after a foul is called a free throw. The fouled player gets one shot at the basket from the foul line. If he misses this shot, he is awarded no points and the penalty is over. If he makes the shot, then he gets one point, and the ball is turned over to the other team. If he misses the second shot, the penalty is over. Suppose that the probability of making a shot is 80%, and the likelihood of making one shot is independent of the outcome of any other shot.\n",
    "\n",
    "a. In a table, show the probability distribution function for the points from the penalty, (Hint: attach probabilities to each outcome).\n",
    "b. One average, how many points would you expect to get from the penalty?"
   ]
  },
  {
   "cell_type": "code",
   "execution_count": null,
   "id": "e453f475",
   "metadata": {},
   "outputs": [],
   "source": []
  },
  {
   "cell_type": "markdown",
   "id": "eb10c93f",
   "metadata": {},
   "source": [
    "The manufacturer's recommended correct inflation range is 26 psi to 30 psi. Assume the tire's average psi is on target. If a tire on the car is inspected at random, what is the probability the tire's inflation is within the recommended range?"
   ]
  },
  {
   "cell_type": "code",
   "execution_count": null,
   "id": "96c374d7",
   "metadata": {},
   "outputs": [],
   "source": []
  }
 ],
 "metadata": {
  "kernelspec": {
   "display_name": "Python 3 (ipykernel)",
   "language": "python",
   "name": "python3"
  },
  "language_info": {
   "codemirror_mode": {
    "name": "ipython",
    "version": 3
   },
   "file_extension": ".py",
   "mimetype": "text/x-python",
   "name": "python",
   "nbconvert_exporter": "python",
   "pygments_lexer": "ipython3",
   "version": "3.9.7"
  }
 },
 "nbformat": 4,
 "nbformat_minor": 5
}
